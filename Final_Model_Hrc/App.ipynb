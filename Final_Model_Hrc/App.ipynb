{
 "cells": [
  {
   "cell_type": "code",
   "execution_count": 9,
   "id": "e2b9937f",
   "metadata": {},
   "outputs": [
    {
     "name": "stdout",
     "output_type": "stream",
     "text": [
      " * Serving Flask app '__main__'\n",
      " * Debug mode: on\n"
     ]
    },
    {
     "name": "stderr",
     "output_type": "stream",
     "text": [
      "WARNING: This is a development server. Do not use it in a production deployment. Use a production WSGI server instead.\n",
      " * Running on http://127.0.0.1:5000\n",
      "Press CTRL+C to quit\n"
     ]
    }
   ],
   "source": [
    "from flask import Flask,jsonify, request\n",
    "from flask_cors import CORS, cross_origin\n",
    "import Smartmodel\n",
    "app = Flask(__name__)\n",
    "cors = CORS(app)\n",
    "app.config['CORS_HEADERS'] = 'application/json'\n",
    "\n",
    "@app.route(\"/predict\", methods=[\"POST\"])\n",
    "@cross_origin(supports_credentials=True)\n",
    "def predictOap():\n",
    "    data = request.get_json()\n",
    "    print(data)\n",
    "    return jsonify(Smartmodel.predict(data).tolist())\n",
    "\n",
    "if __name__ == '__main__':\n",
    "    app.run(debug=True,use_reloader=False)"
   ]
  },
  {
   "cell_type": "code",
   "execution_count": 8,
   "id": "8c7f2223",
   "metadata": {},
   "outputs": [
    {
     "name": "stdout",
     "output_type": "stream",
     "text": [
      "Collecting Flask-Cors\n",
      "  Downloading Flask_Cors-3.0.10-py2.py3-none-any.whl (14 kB)\n",
      "Requirement already satisfied: Six in c:\\users\\kiit\\anaconda3\\lib\\site-packages (from Flask-Cors) (1.16.0)\n",
      "Requirement already satisfied: Flask>=0.9 in c:\\users\\kiit\\anaconda3\\lib\\site-packages (from Flask-Cors) (2.2.2)\n",
      "Requirement already satisfied: Werkzeug>=2.2.2 in c:\\users\\kiit\\anaconda3\\lib\\site-packages (from Flask>=0.9->Flask-Cors) (2.2.2)\n",
      "Requirement already satisfied: click>=8.0 in c:\\users\\kiit\\anaconda3\\lib\\site-packages (from Flask>=0.9->Flask-Cors) (8.0.4)\n",
      "Requirement already satisfied: importlib-metadata>=3.6.0 in c:\\users\\kiit\\anaconda3\\lib\\site-packages (from Flask>=0.9->Flask-Cors) (4.11.3)\n",
      "Requirement already satisfied: Jinja2>=3.0 in c:\\users\\kiit\\anaconda3\\lib\\site-packages (from Flask>=0.9->Flask-Cors) (3.1.2)\n",
      "Requirement already satisfied: itsdangerous>=2.0 in c:\\users\\kiit\\anaconda3\\lib\\site-packages (from Flask>=0.9->Flask-Cors) (2.0.1)\n",
      "Requirement already satisfied: colorama in c:\\users\\kiit\\anaconda3\\lib\\site-packages (from click>=8.0->Flask>=0.9->Flask-Cors) (0.4.6)\n",
      "Requirement already satisfied: zipp>=0.5 in c:\\users\\kiit\\anaconda3\\lib\\site-packages (from importlib-metadata>=3.6.0->Flask>=0.9->Flask-Cors) (3.11.0)\n",
      "Requirement already satisfied: MarkupSafe>=2.0 in c:\\users\\kiit\\anaconda3\\lib\\site-packages (from Jinja2>=3.0->Flask>=0.9->Flask-Cors) (2.1.1)\n",
      "Installing collected packages: Flask-Cors\n",
      "Successfully installed Flask-Cors-3.0.10\n",
      "Note: you may need to restart the kernel to use updated packages.\n"
     ]
    },
    {
     "name": "stderr",
     "output_type": "stream",
     "text": [
      "WARNING: Ignoring invalid distribution -ensorflow (c:\\users\\kiit\\anaconda3\\lib\\site-packages)\n",
      "WARNING: Ignoring invalid distribution -ensorflow-intel (c:\\users\\kiit\\anaconda3\\lib\\site-packages)\n",
      "WARNING: Ignoring invalid distribution -ensorflow (c:\\users\\kiit\\anaconda3\\lib\\site-packages)\n",
      "WARNING: Ignoring invalid distribution -ensorflow-intel (c:\\users\\kiit\\anaconda3\\lib\\site-packages)\n",
      "WARNING: Ignoring invalid distribution -ensorflow (c:\\users\\kiit\\anaconda3\\lib\\site-packages)\n",
      "WARNING: Ignoring invalid distribution -ensorflow-intel (c:\\users\\kiit\\anaconda3\\lib\\site-packages)\n",
      "WARNING: Ignoring invalid distribution -ensorflow (c:\\users\\kiit\\anaconda3\\lib\\site-packages)\n",
      "WARNING: Ignoring invalid distribution -ensorflow-intel (c:\\users\\kiit\\anaconda3\\lib\\site-packages)\n",
      "WARNING: Ignoring invalid distribution -ensorflow (c:\\users\\kiit\\anaconda3\\lib\\site-packages)\n",
      "WARNING: Ignoring invalid distribution -ensorflow-intel (c:\\users\\kiit\\anaconda3\\lib\\site-packages)\n",
      "WARNING: Ignoring invalid distribution -ensorflow (c:\\users\\kiit\\anaconda3\\lib\\site-packages)\n",
      "WARNING: Ignoring invalid distribution -ensorflow-intel (c:\\users\\kiit\\anaconda3\\lib\\site-packages)\n",
      "WARNING: Ignoring invalid distribution -ensorflow (c:\\users\\kiit\\anaconda3\\lib\\site-packages)\n",
      "WARNING: Ignoring invalid distribution -ensorflow-intel (c:\\users\\kiit\\anaconda3\\lib\\site-packages)\n",
      "\n",
      "[notice] A new release of pip available: 23.1.1 -> 23.1.2\n",
      "[notice] To update, run: python.exe -m pip install --upgrade pip\n"
     ]
    }
   ],
   "source": [
    "pip install Flask-Cors"
   ]
  },
  {
   "cell_type": "code",
   "execution_count": null,
   "id": "7405259d",
   "metadata": {},
   "outputs": [],
   "source": []
  }
 ],
 "metadata": {
  "kernelspec": {
   "display_name": "Python 3 (ipykernel)",
   "language": "python",
   "name": "python3"
  },
  "language_info": {
   "codemirror_mode": {
    "name": "ipython",
    "version": 3
   },
   "file_extension": ".py",
   "mimetype": "text/x-python",
   "name": "python",
   "nbconvert_exporter": "python",
   "pygments_lexer": "ipython3",
   "version": "3.9.16"
  }
 },
 "nbformat": 4,
 "nbformat_minor": 5
}
